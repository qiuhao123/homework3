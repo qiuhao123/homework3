{
 "cells": [
  {
   "cell_type": "code",
   "execution_count": 44,
   "metadata": {
    "collapsed": true
   },
   "outputs": [],
   "source": [
    "import pandas as pd\n",
    "import numpy as np\n",
    "import seaborn as sns\n",
    "import matplotlib.pyplot as plt\n",
    "from statsmodels.tsa.stattools import adfuller\n",
    "%matplotlib inline"
   ]
  },
  {
   "cell_type": "code",
   "execution_count": 8,
   "metadata": {},
   "outputs": [
    {
     "data": {
      "text/html": [
       "<div>\n",
       "<style scoped>\n",
       "    .dataframe tbody tr th:only-of-type {\n",
       "        vertical-align: middle;\n",
       "    }\n",
       "\n",
       "    .dataframe tbody tr th {\n",
       "        vertical-align: top;\n",
       "    }\n",
       "\n",
       "    .dataframe thead th {\n",
       "        text-align: right;\n",
       "    }\n",
       "</style>\n",
       "<table border=\"1\" class=\"dataframe\">\n",
       "  <thead>\n",
       "    <tr style=\"text-align: right;\">\n",
       "      <th></th>\n",
       "      <th>Entity</th>\n",
       "      <th>Code</th>\n",
       "      <th>Year</th>\n",
       "      <th>Rate</th>\n",
       "    </tr>\n",
       "  </thead>\n",
       "  <tbody>\n",
       "    <tr>\n",
       "      <th>1</th>\n",
       "      <td>Afghanistan</td>\n",
       "      <td>AFG</td>\n",
       "      <td>1990</td>\n",
       "      <td>6.8029300377499995</td>\n",
       "    </tr>\n",
       "    <tr>\n",
       "      <th>2</th>\n",
       "      <td>Afghanistan</td>\n",
       "      <td>AFG</td>\n",
       "      <td>1991</td>\n",
       "      <td>6.97349405696</td>\n",
       "    </tr>\n",
       "    <tr>\n",
       "      <th>3</th>\n",
       "      <td>Afghanistan</td>\n",
       "      <td>AFG</td>\n",
       "      <td>1992</td>\n",
       "      <td>6.98988163679</td>\n",
       "    </tr>\n",
       "    <tr>\n",
       "      <th>4</th>\n",
       "      <td>Afghanistan</td>\n",
       "      <td>AFG</td>\n",
       "      <td>1993</td>\n",
       "      <td>7.0889829234</td>\n",
       "    </tr>\n",
       "    <tr>\n",
       "      <th>5</th>\n",
       "      <td>Afghanistan</td>\n",
       "      <td>AFG</td>\n",
       "      <td>1994</td>\n",
       "      <td>7.39247200965</td>\n",
       "    </tr>\n",
       "  </tbody>\n",
       "</table>\n",
       "</div>"
      ],
      "text/plain": [
       "        Entity Code  Year                Rate\n",
       "1  Afghanistan  AFG  1990  6.8029300377499995\n",
       "2  Afghanistan  AFG  1991       6.97349405696\n",
       "3  Afghanistan  AFG  1992       6.98988163679\n",
       "4  Afghanistan  AFG  1993        7.0889829234\n",
       "5  Afghanistan  AFG  1994       7.39247200965"
      ]
     },
     "execution_count": 8,
     "metadata": {},
     "output_type": "execute_result"
    }
   ],
   "source": [
    "malaria_death = pd.read_csv('malaria_deaths.csv',names = ['Entity','Code','Year','Rate'])\n",
    "malaria_death = malaria_death.iloc[1:]\n",
    "malaria_death.head()"
   ]
  },
  {
   "cell_type": "code",
   "execution_count": 9,
   "metadata": {},
   "outputs": [
    {
     "data": {
      "text/html": [
       "<div>\n",
       "<style scoped>\n",
       "    .dataframe tbody tr th:only-of-type {\n",
       "        vertical-align: middle;\n",
       "    }\n",
       "\n",
       "    .dataframe tbody tr th {\n",
       "        vertical-align: top;\n",
       "    }\n",
       "\n",
       "    .dataframe thead th {\n",
       "        text-align: right;\n",
       "    }\n",
       "</style>\n",
       "<table border=\"1\" class=\"dataframe\">\n",
       "  <thead>\n",
       "    <tr style=\"text-align: right;\">\n",
       "      <th></th>\n",
       "      <th>entity</th>\n",
       "      <th>code</th>\n",
       "      <th>year</th>\n",
       "      <th>age_group</th>\n",
       "      <th>deaths</th>\n",
       "    </tr>\n",
       "  </thead>\n",
       "  <tbody>\n",
       "    <tr>\n",
       "      <th>1</th>\n",
       "      <td>Afghanistan</td>\n",
       "      <td>AFG</td>\n",
       "      <td>1990</td>\n",
       "      <td>Under 5</td>\n",
       "      <td>184.606435</td>\n",
       "    </tr>\n",
       "    <tr>\n",
       "      <th>2</th>\n",
       "      <td>Afghanistan</td>\n",
       "      <td>AFG</td>\n",
       "      <td>1991</td>\n",
       "      <td>Under 5</td>\n",
       "      <td>191.658193</td>\n",
       "    </tr>\n",
       "    <tr>\n",
       "      <th>3</th>\n",
       "      <td>Afghanistan</td>\n",
       "      <td>AFG</td>\n",
       "      <td>1992</td>\n",
       "      <td>Under 5</td>\n",
       "      <td>197.140197</td>\n",
       "    </tr>\n",
       "    <tr>\n",
       "      <th>4</th>\n",
       "      <td>Afghanistan</td>\n",
       "      <td>AFG</td>\n",
       "      <td>1993</td>\n",
       "      <td>Under 5</td>\n",
       "      <td>207.357753</td>\n",
       "    </tr>\n",
       "    <tr>\n",
       "      <th>5</th>\n",
       "      <td>Afghanistan</td>\n",
       "      <td>AFG</td>\n",
       "      <td>1994</td>\n",
       "      <td>Under 5</td>\n",
       "      <td>226.209363</td>\n",
       "    </tr>\n",
       "  </tbody>\n",
       "</table>\n",
       "</div>"
      ],
      "text/plain": [
       "        entity code  year age_group      deaths\n",
       "1  Afghanistan  AFG  1990   Under 5  184.606435\n",
       "2  Afghanistan  AFG  1991   Under 5  191.658193\n",
       "3  Afghanistan  AFG  1992   Under 5  197.140197\n",
       "4  Afghanistan  AFG  1993   Under 5  207.357753\n",
       "5  Afghanistan  AFG  1994   Under 5  226.209363"
      ]
     },
     "execution_count": 9,
     "metadata": {},
     "output_type": "execute_result"
    }
   ],
   "source": [
    "malaria_death_age = pd.read_csv('malaria_deaths_age.csv',index_col=0)\n",
    "malaria_death_age.head()"
   ]
  },
  {
   "cell_type": "code",
   "execution_count": 10,
   "metadata": {},
   "outputs": [
    {
     "data": {
      "text/html": [
       "<div>\n",
       "<style scoped>\n",
       "    .dataframe tbody tr th:only-of-type {\n",
       "        vertical-align: middle;\n",
       "    }\n",
       "\n",
       "    .dataframe tbody tr th {\n",
       "        vertical-align: top;\n",
       "    }\n",
       "\n",
       "    .dataframe thead th {\n",
       "        text-align: right;\n",
       "    }\n",
       "</style>\n",
       "<table border=\"1\" class=\"dataframe\">\n",
       "  <thead>\n",
       "    <tr style=\"text-align: right;\">\n",
       "      <th></th>\n",
       "      <th>Entity</th>\n",
       "      <th>Code</th>\n",
       "      <th>Year</th>\n",
       "      <th>Incidence of malaria (per 1,000 population at risk) (per 1,000 population at risk)</th>\n",
       "    </tr>\n",
       "  </thead>\n",
       "  <tbody>\n",
       "    <tr>\n",
       "      <th>0</th>\n",
       "      <td>Afghanistan</td>\n",
       "      <td>AFG</td>\n",
       "      <td>2000</td>\n",
       "      <td>107.100000</td>\n",
       "    </tr>\n",
       "    <tr>\n",
       "      <th>1</th>\n",
       "      <td>Afghanistan</td>\n",
       "      <td>AFG</td>\n",
       "      <td>2005</td>\n",
       "      <td>46.500000</td>\n",
       "    </tr>\n",
       "    <tr>\n",
       "      <th>2</th>\n",
       "      <td>Afghanistan</td>\n",
       "      <td>AFG</td>\n",
       "      <td>2010</td>\n",
       "      <td>23.900000</td>\n",
       "    </tr>\n",
       "    <tr>\n",
       "      <th>3</th>\n",
       "      <td>Afghanistan</td>\n",
       "      <td>AFG</td>\n",
       "      <td>2015</td>\n",
       "      <td>23.600000</td>\n",
       "    </tr>\n",
       "    <tr>\n",
       "      <th>4</th>\n",
       "      <td>Algeria</td>\n",
       "      <td>DZA</td>\n",
       "      <td>2000</td>\n",
       "      <td>0.037746</td>\n",
       "    </tr>\n",
       "  </tbody>\n",
       "</table>\n",
       "</div>"
      ],
      "text/plain": [
       "        Entity Code  Year  \\\n",
       "0  Afghanistan  AFG  2000   \n",
       "1  Afghanistan  AFG  2005   \n",
       "2  Afghanistan  AFG  2010   \n",
       "3  Afghanistan  AFG  2015   \n",
       "4      Algeria  DZA  2000   \n",
       "\n",
       "   Incidence of malaria (per 1,000 population at risk) (per 1,000 population at risk)  \n",
       "0                                         107.100000                                   \n",
       "1                                          46.500000                                   \n",
       "2                                          23.900000                                   \n",
       "3                                          23.600000                                   \n",
       "4                                           0.037746                                   "
      ]
     },
     "execution_count": 10,
     "metadata": {},
     "output_type": "execute_result"
    }
   ],
   "source": [
    "malaria_inc = pd.read_csv('malaria_inc.csv')\n",
    "malaria_inc.head()"
   ]
  },
  {
   "cell_type": "code",
   "execution_count": 13,
   "metadata": {},
   "outputs": [
    {
     "data": {
      "text/html": [
       "<div>\n",
       "<style scoped>\n",
       "    .dataframe tbody tr th:only-of-type {\n",
       "        vertical-align: middle;\n",
       "    }\n",
       "\n",
       "    .dataframe tbody tr th {\n",
       "        vertical-align: top;\n",
       "    }\n",
       "\n",
       "    .dataframe thead th {\n",
       "        text-align: right;\n",
       "    }\n",
       "</style>\n",
       "<table border=\"1\" class=\"dataframe\">\n",
       "  <thead>\n",
       "    <tr style=\"text-align: right;\">\n",
       "      <th></th>\n",
       "      <th>Entity</th>\n",
       "      <th>Year</th>\n",
       "      <th>Rate</th>\n",
       "    </tr>\n",
       "  </thead>\n",
       "  <tbody>\n",
       "    <tr>\n",
       "      <th>3052</th>\n",
       "      <td>Liberia</td>\n",
       "      <td>1990</td>\n",
       "      <td>95.9759094615</td>\n",
       "    </tr>\n",
       "    <tr>\n",
       "      <th>3053</th>\n",
       "      <td>Liberia</td>\n",
       "      <td>1991</td>\n",
       "      <td>97.9684303263</td>\n",
       "    </tr>\n",
       "    <tr>\n",
       "      <th>3054</th>\n",
       "      <td>Liberia</td>\n",
       "      <td>1992</td>\n",
       "      <td>99.70427995989999</td>\n",
       "    </tr>\n",
       "    <tr>\n",
       "      <th>2245</th>\n",
       "      <td>Guinea</td>\n",
       "      <td>1993</td>\n",
       "      <td>92.8051480862</td>\n",
       "    </tr>\n",
       "    <tr>\n",
       "      <th>2246</th>\n",
       "      <td>Guinea</td>\n",
       "      <td>1994</td>\n",
       "      <td>93.7744529369</td>\n",
       "    </tr>\n",
       "    <tr>\n",
       "      <th>897</th>\n",
       "      <td>Cameroon</td>\n",
       "      <td>1995</td>\n",
       "      <td>98.5820410378</td>\n",
       "    </tr>\n",
       "    <tr>\n",
       "      <th>4489</th>\n",
       "      <td>Rwanda</td>\n",
       "      <td>1996</td>\n",
       "      <td>97.3526186415</td>\n",
       "    </tr>\n",
       "    <tr>\n",
       "      <th>4490</th>\n",
       "      <td>Rwanda</td>\n",
       "      <td>1997</td>\n",
       "      <td>99.5934319832</td>\n",
       "    </tr>\n",
       "    <tr>\n",
       "      <th>4491</th>\n",
       "      <td>Rwanda</td>\n",
       "      <td>1998</td>\n",
       "      <td>96.913573528</td>\n",
       "    </tr>\n",
       "    <tr>\n",
       "      <th>5410</th>\n",
       "      <td>Tanzania</td>\n",
       "      <td>1999</td>\n",
       "      <td>98.01378665600001</td>\n",
       "    </tr>\n",
       "    <tr>\n",
       "      <th>5411</th>\n",
       "      <td>Tanzania</td>\n",
       "      <td>2000</td>\n",
       "      <td>99.03434748309999</td>\n",
       "    </tr>\n",
       "    <tr>\n",
       "      <th>5412</th>\n",
       "      <td>Tanzania</td>\n",
       "      <td>2001</td>\n",
       "      <td>98.9314914062</td>\n",
       "    </tr>\n",
       "    <tr>\n",
       "      <th>5494</th>\n",
       "      <td>Togo</td>\n",
       "      <td>2002</td>\n",
       "      <td>96.8035932408</td>\n",
       "    </tr>\n",
       "    <tr>\n",
       "      <th>5171</th>\n",
       "      <td>Sub-Saharan Africa</td>\n",
       "      <td>2003</td>\n",
       "      <td>96.2815933315</td>\n",
       "    </tr>\n",
       "    <tr>\n",
       "      <th>1014</th>\n",
       "      <td>Central African Republic</td>\n",
       "      <td>2004</td>\n",
       "      <td>97.2425132555</td>\n",
       "    </tr>\n",
       "    <tr>\n",
       "      <th>1015</th>\n",
       "      <td>Central African Republic</td>\n",
       "      <td>2005</td>\n",
       "      <td>98.7115429922</td>\n",
       "    </tr>\n",
       "    <tr>\n",
       "      <th>3689</th>\n",
       "      <td>Mozambique</td>\n",
       "      <td>2006</td>\n",
       "      <td>97.8181596183</td>\n",
       "    </tr>\n",
       "    <tr>\n",
       "      <th>5202</th>\n",
       "      <td>Sudan</td>\n",
       "      <td>2007</td>\n",
       "      <td>9.891988723679999</td>\n",
       "    </tr>\n",
       "    <tr>\n",
       "      <th>586</th>\n",
       "      <td>Benin</td>\n",
       "      <td>2008</td>\n",
       "      <td>98.3498531666</td>\n",
       "    </tr>\n",
       "    <tr>\n",
       "      <th>3071</th>\n",
       "      <td>Liberia</td>\n",
       "      <td>2009</td>\n",
       "      <td>98.9968365347</td>\n",
       "    </tr>\n",
       "    <tr>\n",
       "      <th>1128</th>\n",
       "      <td>Central Sub-Saharan Africa</td>\n",
       "      <td>2010</td>\n",
       "      <td>97.9612857049</td>\n",
       "    </tr>\n",
       "    <tr>\n",
       "      <th>2101</th>\n",
       "      <td>Ghana</td>\n",
       "      <td>2011</td>\n",
       "      <td>92.6182134612</td>\n",
       "    </tr>\n",
       "    <tr>\n",
       "      <th>914</th>\n",
       "      <td>Cameroon</td>\n",
       "      <td>2012</td>\n",
       "      <td>96.3477798086</td>\n",
       "    </tr>\n",
       "    <tr>\n",
       "      <th>6045</th>\n",
       "      <td>Western Sub-Saharan Africa</td>\n",
       "      <td>2013</td>\n",
       "      <td>96.8556386603</td>\n",
       "    </tr>\n",
       "    <tr>\n",
       "      <th>3913</th>\n",
       "      <td>Nigeria</td>\n",
       "      <td>2014</td>\n",
       "      <td>99.84621128920001</td>\n",
       "    </tr>\n",
       "    <tr>\n",
       "      <th>5507</th>\n",
       "      <td>Togo</td>\n",
       "      <td>2015</td>\n",
       "      <td>97.5608173424</td>\n",
       "    </tr>\n",
       "    <tr>\n",
       "      <th>5508</th>\n",
       "      <td>Togo</td>\n",
       "      <td>2016</td>\n",
       "      <td>94.1009249207</td>\n",
       "    </tr>\n",
       "  </tbody>\n",
       "</table>\n",
       "</div>"
      ],
      "text/plain": [
       "                          Entity  Year               Rate\n",
       "3052                     Liberia  1990      95.9759094615\n",
       "3053                     Liberia  1991      97.9684303263\n",
       "3054                     Liberia  1992  99.70427995989999\n",
       "2245                      Guinea  1993      92.8051480862\n",
       "2246                      Guinea  1994      93.7744529369\n",
       "897                     Cameroon  1995      98.5820410378\n",
       "4489                      Rwanda  1996      97.3526186415\n",
       "4490                      Rwanda  1997      99.5934319832\n",
       "4491                      Rwanda  1998       96.913573528\n",
       "5410                    Tanzania  1999  98.01378665600001\n",
       "5411                    Tanzania  2000  99.03434748309999\n",
       "5412                    Tanzania  2001      98.9314914062\n",
       "5494                        Togo  2002      96.8035932408\n",
       "5171          Sub-Saharan Africa  2003      96.2815933315\n",
       "1014    Central African Republic  2004      97.2425132555\n",
       "1015    Central African Republic  2005      98.7115429922\n",
       "3689                  Mozambique  2006      97.8181596183\n",
       "5202                       Sudan  2007  9.891988723679999\n",
       "586                        Benin  2008      98.3498531666\n",
       "3071                     Liberia  2009      98.9968365347\n",
       "1128  Central Sub-Saharan Africa  2010      97.9612857049\n",
       "2101                       Ghana  2011      92.6182134612\n",
       "914                     Cameroon  2012      96.3477798086\n",
       "6045  Western Sub-Saharan Africa  2013      96.8556386603\n",
       "3913                     Nigeria  2014  99.84621128920001\n",
       "5507                        Togo  2015      97.5608173424\n",
       "5508                        Togo  2016      94.1009249207"
      ]
     },
     "execution_count": 13,
     "metadata": {},
     "output_type": "execute_result"
    }
   ],
   "source": [
    "idx = malaria_death[['Entity','Year','Rate']].groupby(['Year'])['Rate'].transform(max) == malaria_death['Rate']\n",
    "malaria_death[['Entity','Year','Rate']][idx].sort_values('Year')"
   ]
  },
  {
   "cell_type": "markdown",
   "metadata": {},
   "source": [
    "### since sierra leone has the highest death rate, we would like to predict the death rate in sierra"
   ]
  },
  {
   "cell_type": "code",
   "execution_count": 39,
   "metadata": {},
   "outputs": [],
   "source": [
    "df = malaria_death[malaria_death['Entity'] == 'Sierra Leone'][['Year','Rate']]\n",
    "df.Year=pd.to_datetime(df.Year,format='%Y')\n",
    "df.Rate = df.Rate.astype('float')"
   ]
  },
  {
   "cell_type": "code",
   "execution_count": 40,
   "metadata": {},
   "outputs": [
    {
     "data": {
      "text/plain": [
       "Text(0.5, 1.0, 'number of deaths vs year')"
      ]
     },
     "execution_count": 40,
     "metadata": {},
     "output_type": "execute_result"
    },
    {
     "data": {
      "image/png": "[encoded data removed]",
      "text/plain": [
       "<Figure size 720x576 with 1 Axes>"
      ]
     },
     "metadata": {},
     "output_type": "display_data"
    }
   ],
   "source": [
    "fig,ax = plt.subplots(figsize=(10,8))\n",
    "df.plot.line(x='Year',y='Rate',ax=ax)\n",
    "ax.set_xlabel('year')\n",
    "ax.set_ylabel('deaths')\n",
    "ax.set_title('number of deaths vs year')"
   ]
  },
  {
   "cell_type": "code",
   "execution_count": 42,
   "metadata": {
    "collapsed": true
   },
   "outputs": [],
   "source": [
    "df.index = df.Year\n",
    "df = df.drop('Year',axis=1)"
   ]
  },
  {
   "cell_type": "code",
   "execution_count": 45,
   "metadata": {},
   "outputs": [
    {
     "name": "stdout",
     "output_type": "stream",
     "text": [
      "perform dicky fuller test: \n",
      "Test Statistic                 -3.058192\n",
      "p-value                         0.029806\n",
      "#Lags Used                      6.000000\n",
      "Number of Observations Used    20.000000\n",
      "Critical Value (1%)            -3.809209\n",
      "Critical Value (5%)            -3.021645\n",
      "Critical Value (10%)           -2.650713\n",
      "dtype: float64\n"
     ]
    },
    {
     "data": {
      "image/png": "[encoded data removed]",
      "text/plain": [
       "<Figure size 720x576 with 1 Axes>"
      ]
     },
     "metadata": {},
     "output_type": "display_data"
    }
   ],
   "source": [
    "def test_stationarity(timeseries):\n",
    "    #determine rolling statistics, make sure the time series is not white noise \n",
    "    rolmean = timeseries.rolling(3).mean()\n",
    "    rolstd = timeseries.rolling(3).std()\n",
    "    #plot rolling statistics\n",
    "    fig , ax = plt.subplots(figsize = (10,8))\n",
    "    original = ax.plot(timeseries,color='blue',label='original')\n",
    "    mean = ax.plot(rolmean,color='red',label='rolling_mean')\n",
    "    std = ax.plot(rolstd,color='black',label='rolling_std')\n",
    "    ax.legend(loc='best')\n",
    "    ax.set_title('original vs rolling_mean vs rolling_std')\n",
    "    plt.savefig('original_vs_rolling_mean_vs_rolling_std')\n",
    "    \n",
    "    #perform dicky-fuller test:\n",
    "    print(\"perform dicky fuller test: \")\n",
    "    dftest = adfuller(timeseries,autolag='AIC')\n",
    "    \n",
    "    dfoutput = pd.Series(dftest[0:4], index=['Test Statistic','p-value','#Lags Used','Number of Observations Used'])\n",
    "    for key,value in dftest[4].items():\n",
    "        dfoutput['Critical Value (%s)'%key] = value\n",
    "    print(dfoutput)\n",
    "\n",
    "test_stationarity(df)\n"
   ]
  },
  {
   "cell_type": "code",
   "execution_count": 46,
   "metadata": {
    "collapsed": true
   },
   "outputs": [],
   "source": [
    "from statsmodels.graphics.tsaplots import plot_acf\n",
    "from statsmodels.graphics.tsaplots import plot_pacf"
   ]
  },
  {
   "cell_type": "code",
   "execution_count": 50,
   "metadata": {},
   "outputs": [
    {
     "data": {
      "image/png": "[encoded data removed]",
      "text/plain": [
       "<Figure size 1440x720 with 2 Axes>"
      ]
     },
     "metadata": {},
     "output_type": "display_data"
    }
   ],
   "source": [
    "fig, axes = plt.subplots(1,2,figsize=(20,10))\n",
    "plot_acf(df.values,lags =10,ax=axes[0])\n",
    "plot_pacf(df.values,lags=10,ax=axes[1])\n",
    "plt.show()"
   ]
  },
  {
   "cell_type": "code",
   "execution_count": 51,
   "metadata": {
    "collapsed": true
   },
   "outputs": [],
   "source": [
    "from statsmodels.tsa.arima_model import ARIMA"
   ]
  },
  {
   "cell_type": "code",
   "execution_count": 53,
   "metadata": {},
   "outputs": [
    {
     "data": {
      "text/plain": [
       "2"
      ]
     },
     "execution_count": 53,
     "metadata": {},
     "output_type": "execute_result"
    }
   ],
   "source": [
    "from pmdarima.arima.utils import ndiffs\n",
    "y = df.values\n",
    "ndiffs(y, test='adf')"
   ]
  },
  {
   "cell_type": "code",
   "execution_count": 56,
   "metadata": {},
   "outputs": [
    {
     "name": "stderr",
     "output_type": "stream",
     "text": [
      "/Users/jinq/anaconda3/lib/python3.6/site-packages/statsmodels/tsa/base/tsa_model.py:162: ValueWarning: No frequency information was provided, so inferred frequency AS-JAN will be used.\n",
      "  % freq, ValueWarning)\n",
      "/Users/jinq/anaconda3/lib/python3.6/site-packages/statsmodels/tsa/base/tsa_model.py:162: ValueWarning: No frequency information was provided, so inferred frequency AS-JAN will be used.\n",
      "  % freq, ValueWarning)\n"
     ]
    },
    {
     "name": "stdout",
     "output_type": "stream",
     "text": [
      "                             ARIMA Model Results                              \n",
      "==============================================================================\n",
      "Dep. Variable:                D2.Rate   No. Observations:                   25\n",
      "Model:                 ARIMA(2, 2, 2)   Log Likelihood                 -63.493\n",
      "Method:                       css-mle   S.D. of innovations              2.792\n",
      "Date:                Wed, 16 Sep 2020   AIC                            138.986\n",
      "Time:                        16:30:20   BIC                            146.299\n",
      "Sample:                    01-01-1992   HQIC                           141.014\n",
      "                         - 01-01-2016                                         \n",
      "=================================================================================\n",
      "                    coef    std err          z      P>|z|      [0.025      0.975]\n",
      "---------------------------------------------------------------------------------\n",
      "const            -0.2659      0.786     -0.338      0.735      -1.806       1.274\n",
      "ar.L1.D2.Rate    -0.8410      0.148     -5.675      0.000      -1.131      -0.551\n",
      "ar.L2.D2.Rate    -0.6605      0.153     -4.310      0.000      -0.961      -0.360\n",
      "ma.L1.D2.Rate     1.5327      0.174      8.809      0.000       1.192       1.874\n",
      "ma.L2.D2.Rate     0.9999      0.205      4.876      0.000       0.598       1.402\n",
      "                                    Roots                                    \n",
      "=============================================================================\n",
      "                  Real          Imaginary           Modulus         Frequency\n",
      "-----------------------------------------------------------------------------\n",
      "AR.1           -0.6366           -1.0529j            1.2304           -0.3365\n",
      "AR.2           -0.6366           +1.0529j            1.2304            0.3365\n",
      "MA.1           -0.7664           -0.6424j            1.0000           -0.3890\n",
      "MA.2           -0.7664           +0.6424j            1.0000            0.3890\n",
      "-----------------------------------------------------------------------------\n"
     ]
    },
    {
     "data": {
      "text/plain": [
       "<matplotlib.axes._subplots.AxesSubplot at 0x130155438>"
      ]
     },
     "execution_count": 56,
     "metadata": {},
     "output_type": "execute_result"
    },
    {
     "data": {
      "image/png": "[encoded data removed]",
      "text/plain": [
       "<Figure size 1080x720 with 2 Axes>"
      ]
     },
     "metadata": {},
     "output_type": "display_data"
    }
   ],
   "source": [
    "model = ARIMA(df['Rate'],order=(2,2,2))\n",
    "ARIMA = model.fit(disp=0)\n",
    "print(ARIMA.summary())\n",
    "fig, axes = plt.subplots(2,1,figsize=(15,10))\n",
    "axes[0].plot(df)\n",
    "axes[0].plot(ARIMA.fittedvalues, color='red')\n",
    "residuals = pd.DataFrame(ARIMA.resid)\n",
    "residuals.plot(kind='kde',ax=axes[1])"
   ]
  },
  {
   "cell_type": "code",
   "execution_count": 60,
   "metadata": {},
   "outputs": [],
   "source": [
    "import datetime\n",
    "year = '2021'\n",
    "format = '%Y'\n",
    "year_string = datetime.datetime.strptime(year,format)\n",
    "year_string\n",
    "prediction,_,_ = ARIMA.forecast(steps=5)"
   ]
  },
  {
   "cell_type": "code",
   "execution_count": 72,
   "metadata": {},
   "outputs": [],
   "source": [
    "import datetime\n",
    "predict_series = {}\n",
    "prediction,_,_ = ARIMA.forecast(steps=5)\n",
    "for i in range(2017,2021):\n",
    "    predict_series[datetime.datetime.strptime(str(i),'%Y')] = prediction[i-2017]\n",
    "\n",
    "predict_df = pd.DataFrame(predict_series.items(),columns=['Year','Rate'])\n",
    "predict_df.index = predict_df.Year\n",
    "predict_df.drop('Year',axis=1,inplace=True)"
   ]
  },
  {
   "cell_type": "code",
   "execution_count": 71,
   "metadata": {},
   "outputs": [
    {
     "data": {
      "text/html": [
       "<div>\n",
       "<style scoped>\n",
       "    .dataframe tbody tr th:only-of-type {\n",
       "        vertical-align: middle;\n",
       "    }\n",
       "\n",
       "    .dataframe tbody tr th {\n",
       "        vertical-align: top;\n",
       "    }\n",
       "\n",
       "    .dataframe thead th {\n",
       "        text-align: right;\n",
       "    }\n",
       "</style>\n",
       "<table border=\"1\" class=\"dataframe\">\n",
       "  <thead>\n",
       "    <tr style=\"text-align: right;\">\n",
       "      <th></th>\n",
       "      <th>Year</th>\n",
       "      <th>Rate</th>\n",
       "    </tr>\n",
       "  </thead>\n",
       "  <tbody>\n",
       "    <tr>\n",
       "      <th>0</th>\n",
       "      <td>2017-01-01</td>\n",
       "      <td>115.463328</td>\n",
       "    </tr>\n",
       "    <tr>\n",
       "      <th>1</th>\n",
       "      <td>2018-01-01</td>\n",
       "      <td>110.422888</td>\n",
       "    </tr>\n",
       "    <tr>\n",
       "      <th>2</th>\n",
       "      <td>2019-01-01</td>\n",
       "      <td>105.802407</td>\n",
       "    </tr>\n",
       "    <tr>\n",
       "      <th>3</th>\n",
       "      <td>2020-01-01</td>\n",
       "      <td>101.209831</td>\n",
       "    </tr>\n",
       "  </tbody>\n",
       "</table>\n",
       "</div>"
      ],
      "text/plain": [
       "        Year        Rate\n",
       "0 2017-01-01  115.463328\n",
       "1 2018-01-01  110.422888\n",
       "2 2019-01-01  105.802407\n",
       "3 2020-01-01  101.209831"
      ]
     },
     "execution_count": 71,
     "metadata": {},
     "output_type": "execute_result"
    }
   ],
   "source": [
    "fig, ax = "
   ]
  },
  {
   "cell_type": "code",
   "execution_count": null,
   "metadata": {
    "collapsed": true
   },
   "outputs": [],
   "source": []
  }
 ],
 "metadata": {
  "kernelspec": {
   "display_name": "Python 3",
   "language": "python",
   "name": "python3"
  },
  "language_info": {
   "codemirror_mode": {
    "name": "ipython",
    "version": 3
   },
   "file_extension": ".py",
   "mimetype": "text/x-python",
   "name": "python",
   "nbconvert_exporter": "python",
   "pygments_lexer": "ipython3",
   "version": "3.6.3"
  }
 },
 "nbformat": 4,
 "nbformat_minor": 2
}
